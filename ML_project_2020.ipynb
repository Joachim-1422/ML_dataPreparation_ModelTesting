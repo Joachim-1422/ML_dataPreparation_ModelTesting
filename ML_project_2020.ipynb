{
 "cells": [
  {
   "cell_type": "markdown",
   "metadata": {},
   "source": [
    "# Machine Learning - Data preparation and Model testing"
   ]
  },
  {
   "cell_type": "markdown",
   "metadata": {},
   "source": [
    "## Q1 Health App - SVM usage\n",
    "You are given user engagement data from a health app. Each user selects to pay from 1USD to 20USD for the trial period. After a trial period is over, a user decides will he/she pay the full price. Your task is to predict, given user and user engagement data, will a user subscribe or not and assess how good your model is.\n",
    "\n",
    "The data is provided in `final_project_data_q1.csv` file. Description of each feature follows:\n",
    "- `user_id`: unique user identifier.\n",
    "- `age`: user age.\n",
    "- `gender`: user gender.\n",
    "- `trial_price_paid_usd`: price user selected to pay for a trial period.\n",
    "- `acquisition_channel`: from which advertising channel did the user come from. The format of the data `SOURCE_COOKIE`.\n",
    "- `exercises/meals/content logged`: count of different app engagement.\n",
    "- `timespent_ms`: the total amount of time the user was using the app in milliseconds.\n",
    "- `subscribed`: did user subscribe for a full price, after the trial period. The target variable we are trying to predict.\n",
    "- `Q1-Q10`: before registering for a trial, users had to answer 10 different questions. Each question has some fixed number of answers. Question columns represent the ids for each answer."
   ]
  },
  {
   "cell_type": "code",
   "execution_count": 1,
   "metadata": {},
   "outputs": [],
   "source": [
    "import pandas as pd\n",
    "from sklearn.svm import SVC\n",
    "from sklearn.svm import SVR\n",
    "from sklearn.decomposition import PCA\n",
    "from sklearn.pipeline import make_pipeline\n",
    "from sklearn.preprocessing import StandardScaler\n",
    "from sklearn.model_selection import train_test_split\n",
    "from sklearn.metrics import f1_score, make_scorer\n",
    "from functools import partial\n",
    "from sklearn.model_selection import GridSearchCV\n",
    "import lightgbm as lgb\n",
    "from sklearn.metrics import mean_squared_error\n",
    "from sklearn.linear_model import LinearRegression\n",
    "from sklearn.ensemble import RandomForestClassifier,AdaBoostClassifier,GradientBoostingClassifier, GradientBoostingRegressor\n",
    "from sklearn.metrics import accuracy_score\n",
    "import seaborn as sns\n",
    "import numpy as np"
   ]
  },
  {
   "cell_type": "code",
   "execution_count": 2,
   "metadata": {},
   "outputs": [
    {
     "name": "stdout",
     "output_type": "stream",
     "text": [
      "   user_id  age  gender  trial_price_paid_usd  acquisition_channel  \\\n",
      "0        0   44       0                    10                    0   \n",
      "1        1   68       0                    14                    0   \n",
      "2        2   25       1                     7                    1   \n",
      "3        3   28       0                    12                    2   \n",
      "4        4   35       1                    11                    3   \n",
      "\n",
      "   exercises_logged  meals_logged  content_logged  timespent_ms  Q1  Q2  Q3  \\\n",
      "0                 0             0               0  0.000000e+00   1   2   0   \n",
      "1                 1             8              14  1.428894e+07   1   1   0   \n",
      "2                 5            10              13  2.211746e+07   0   0   0   \n",
      "3                 5             7              16  2.756214e+07   1   1   0   \n",
      "4                 5             9              17  2.843598e+07   2   0   0   \n",
      "\n",
      "   Q4  Q5  Q6  Q7  Q8  Q9  Q10  \n",
      "0   2   1   1   0   1   4    0  \n",
      "1   1   1   0   0   0   1    4  \n",
      "2   2   0   0   0   0   0    2  \n",
      "3   1   1   0   0   0   4    2  \n",
      "4   3   1   2   1   0   1    1  \n",
      "False\n"
     ]
    }
   ],
   "source": [
    "data = pd.read_csv('final_project_data_q1.csv')\n",
    "target = data.subscribed.values\n",
    "del (data['subscribed'])\n",
    "data.gender = data.gender.replace(to_replace=['f', 'm'], value=[0, 1])\n",
    "data['acquisition_channel'] = data['acquisition_channel'].str.split('_').str[0]\n",
    "u = data.acquisition_channel.unique()\n",
    "data.acquisition_channel = data.acquisition_channel.replace(to_replace=u, value=list(range(len(u))))\n",
    "print(data.head())\n",
    "print(data.isnull().values.any())"
   ]
  },
  {
   "cell_type": "code",
   "execution_count": 3,
   "metadata": {},
   "outputs": [
    {
     "name": "stdout",
     "output_type": "stream",
     "text": [
      "                            OLS Regression Results                            \n",
      "==============================================================================\n",
      "Dep. Variable:                      y   R-squared:                       0.122\n",
      "Model:                            OLS   Adj. R-squared:                  0.122\n",
      "Method:                 Least Squares   F-statistic:                     146.7\n",
      "Date:                Mon, 24 Feb 2020   Prob (F-statistic):               0.00\n",
      "Time:                        09:39:24   Log-Likelihood:                -13058.\n",
      "No. Observations:               20000   AIC:                         2.616e+04\n",
      "Df Residuals:                   19980   BIC:                         2.631e+04\n",
      "Df Model:                          19                                         \n",
      "Covariance Type:            nonrobust                                         \n",
      "========================================================================================\n",
      "                           coef    std err          t      P>|t|      [0.025      0.975]\n",
      "----------------------------------------------------------------------------------------\n",
      "const                    0.0791      0.020      4.007      0.000       0.040       0.118\n",
      "user_id               9.459e-08    5.7e-07      0.166      0.868   -1.02e-06    1.21e-06\n",
      "age                     -0.0005      0.000     -2.622      0.009      -0.001      -0.000\n",
      "gender                   0.0239      0.008      2.880      0.004       0.008       0.040\n",
      "trial_price_paid_usd     0.0051      0.001      7.210      0.000       0.004       0.006\n",
      "acquisition_channel      0.0018      0.002      0.917      0.359      -0.002       0.006\n",
      "exercises_logged         0.0385      0.002     23.111      0.000       0.035       0.042\n",
      "meals_logged             0.0132      0.001     14.565      0.000       0.011       0.015\n",
      "content_logged           0.0021      0.001      2.627      0.009       0.001       0.004\n",
      "timespent_ms          1.001e-09   3.62e-10      2.764      0.006    2.91e-10    1.71e-09\n",
      "Q1                       0.0029      0.003      0.943      0.346      -0.003       0.009\n",
      "Q2                       0.0044      0.005      0.834      0.404      -0.006       0.015\n",
      "Q3                      -0.0007      0.008     -0.099      0.921      -0.016       0.014\n",
      "Q4                       0.0014      0.003      0.542      0.588      -0.004       0.007\n",
      "Q5                       0.0029      0.008      0.386      0.699      -0.012       0.018\n",
      "Q6                       0.0014      0.005      0.257      0.797      -0.009       0.012\n",
      "Q7                      -0.0086      0.005     -1.610      0.108      -0.019       0.002\n",
      "Q8                      -0.0005      0.008     -0.072      0.943      -0.015       0.014\n",
      "Q9                       0.0079      0.003      2.940      0.003       0.003       0.013\n",
      "Q10                      0.0063      0.003      2.036      0.042       0.000       0.012\n",
      "==============================================================================\n",
      "Omnibus:                   112932.882   Durbin-Watson:                   1.981\n",
      "Prob(Omnibus):                  0.000   Jarque-Bera (JB):             2003.768\n",
      "Skew:                           0.131   Prob(JB):                         0.00\n",
      "Kurtosis:                       1.472   Cond. No.                     1.37e+08\n",
      "==============================================================================\n",
      "\n",
      "Warnings:\n",
      "[1] Standard Errors assume that the covariance matrix of the errors is correctly specified.\n",
      "[2] The condition number is large, 1.37e+08. This might indicate that there are\n",
      "strong multicollinearity or other numerical problems.\n",
      "['age', 'gender', 'trial_price_paid_usd', 'acquisition_channel', 'exercises_logged', 'meals_logged', 'content_logged', 'timespent_ms', 'Q1', 'Q2', 'Q4', 'Q5', 'Q6', 'Q7', 'Q9', 'Q10']\n"
     ]
    },
    {
     "name": "stderr",
     "output_type": "stream",
     "text": [
      "/home/joachim/anaconda3/lib/python3.7/site-packages/numpy/core/fromnumeric.py:2389: FutureWarning: Method .ptp is deprecated and will be removed in a future version. Use numpy.ptp instead.\n",
      "  return ptp(axis=axis, out=out, **kwargs)\n"
     ]
    }
   ],
   "source": [
    "\n",
    "import statsmodels.api as sm\n",
    "#Adding constant column of ones, mandatory for sm.OLS model\n",
    "X_1 = sm.add_constant(data)\n",
    "#Fitting sm.OLS model\n",
    "model = sm.OLS(target,X_1).fit()\n",
    "\n",
    "print(model.summary())\n",
    "\n",
    "model.pvalues\n",
    "\n",
    "#Backward Elimination\n",
    "cols = list(data.columns)\n",
    "pmax = 1\n",
    "while (len(cols)>0):\n",
    "    p= []\n",
    "    X_1 = data[cols]\n",
    "    X_1 = sm.add_constant(X_1)\n",
    "    model = sm.OLS(target,X_1).fit()\n",
    "    p = pd.Series(model.pvalues.values[1:],index = cols)      \n",
    "    pmax = max(p)\n",
    "    feature_with_p_max = p.idxmax()\n",
    "    if(pmax>0.8):\n",
    "        cols.remove(feature_with_p_max)\n",
    "    else:\n",
    "        break\n",
    "selected_features_BE = cols\n",
    "print(selected_features_BE)"
   ]
  },
  {
   "cell_type": "raw",
   "metadata": {},
   "source": [
    "Top features :\n",
    "1: trial_price_paid_usd\n",
    "2: exercises_logged\n",
    "3: meals_logged\n",
    "4: Q9\n",
    "5: gender\n",
    "\n",
    "\n",
    "I tried before without removing some features but it's better now."
   ]
  },
  {
   "cell_type": "code",
   "execution_count": 4,
   "metadata": {},
   "outputs": [
    {
     "name": "stdout",
     "output_type": "stream",
     "text": [
      "   age  gender  trial_price_paid_usd  acquisition_channel  exercises_logged  \\\n",
      "0   44       0                    10                    0                 0   \n",
      "1   68       0                    14                    0                 1   \n",
      "2   25       1                     7                    1                 5   \n",
      "3   28       0                    12                    2                 5   \n",
      "4   35       1                    11                    3                 5   \n",
      "\n",
      "   meals_logged  content_logged  timespent_ms  Q1  Q2  Q4  Q5  Q6  Q7  Q9  Q10  \n",
      "0             0               0  0.000000e+00   1   2   2   1   1   0   4    0  \n",
      "1             8              14  1.428894e+07   1   1   1   1   0   0   1    4  \n",
      "2            10              13  2.211746e+07   0   0   2   0   0   0   0    2  \n",
      "3             7              16  2.756214e+07   1   1   1   1   0   0   4    2  \n",
      "4             9              17  2.843598e+07   2   0   3   1   2   1   1    1  \n",
      "16\n",
      "Index(['age', 'gender', 'trial_price_paid_usd', 'acquisition_channel',\n",
      "       'exercises_logged', 'meals_logged', 'content_logged', 'timespent_ms',\n",
      "       'Q1', 'Q2', 'Q4', 'Q5', 'Q6', 'Q7', 'Q9', 'Q10'],\n",
      "      dtype='object')\n"
     ]
    }
   ],
   "source": [
    "data = data[selected_features_BE].copy()\n",
    "print(data.head())\n",
    "print(len(selected_features_BE))\n",
    "print(data.columns)"
   ]
  },
  {
   "cell_type": "code",
   "execution_count": 5,
   "metadata": {},
   "outputs": [
    {
     "name": "stdout",
     "output_type": "stream",
     "text": [
      "   age  gender  trial_price_paid_usd  acquisition_channel  exercises_logged  \\\n",
      "0   44       0                    10                    0                 0   \n",
      "1   68       0                    14                    0                 1   \n",
      "2   25       1                     7                    1                 5   \n",
      "3   28       0                    12                    2                 5   \n",
      "4   35       1                    11                    3                 5   \n",
      "\n",
      "   meals_logged  content_logged  timespent_ms  Q1  Q2  Q4  Q5  Q6  Q7  Q9  Q10  \n",
      "0             0               0  0.000000e+00   1   2   2   1   1   0   4    0  \n",
      "1             8              14  1.428894e+07   1   1   1   1   0   0   1    4  \n",
      "2            10              13  2.211746e+07   0   0   2   0   0   0   0    2  \n",
      "3             7              16  2.756214e+07   1   1   1   1   0   0   4    2  \n",
      "4             9              17  2.843598e+07   2   0   3   1   2   1   1    1  \n"
     ]
    }
   ],
   "source": [
    "ss = StandardScaler()\n",
    "##pca = PCA(n_components=1, random_state=42, svd_solver='randomized')\n",
    "##pca.fit_transform(Xtrain)\n",
    "##print(pca.explained_variance_ratio_.cumsum())\n",
    "svc = SVC(kernel='rbf', class_weight='balanced')\n",
    "model = make_pipeline(ss, svc)\n",
    "Xtrain, Xtest, ytrain, ytest = train_test_split(data, target, random_state=42, stratify=target)\n",
    "f1_score_partial = partial(f1_score, average='macro')\n",
    "scorer = make_scorer(f1_score_partial)\n",
    "print(data.head())"
   ]
  },
  {
   "cell_type": "code",
   "execution_count": null,
   "metadata": {},
   "outputs": [],
   "source": []
  },
  {
   "cell_type": "code",
   "execution_count": 6,
   "metadata": {},
   "outputs": [
    {
     "name": "stderr",
     "output_type": "stream",
     "text": [
      "/home/joachim/anaconda3/lib/python3.7/site-packages/sklearn/model_selection/_split.py:1978: FutureWarning: The default value of cv will change from 3 to 5 in version 0.22. Specify it explicitly to silence this warning.\n",
      "  warnings.warn(CV_WARNING, FutureWarning)\n"
     ]
    },
    {
     "name": "stdout",
     "output_type": "stream",
     "text": [
      "{'svc__C': 5, 'svc__decision_function_shape': 'ovo', 'svc__gamma': 5e-06}\n",
      "0.6234522373776502\n"
     ]
    }
   ],
   "source": [
    "param_grid = {'svc__C': [5],\n",
    "              'svc__gamma': [0.000005],\n",
    "              'svc__decision_function_shape': [\"ovo\"]}\n",
    "grid = GridSearchCV(model, param_grid, n_jobs=-1, scoring=scorer)\n",
    "\n",
    "grid.fit(Xtrain, ytrain)\n",
    "print(grid.best_params_)\n",
    "print(grid.best_score_)"
   ]
  },
  {
   "cell_type": "code",
   "execution_count": 7,
   "metadata": {},
   "outputs": [
    {
     "name": "stdout",
     "output_type": "stream",
     "text": [
      "mse :  0.3962\n"
     ]
    }
   ],
   "source": [
    "m = grid.best_estimator_\n",
    "ypred = m.predict(Xtest)\n",
    "mse=mean_squared_error(ytest, ypred)\n",
    "print(\"mse : \", mse)"
   ]
  },
  {
   "cell_type": "code",
   "execution_count": 8,
   "metadata": {},
   "outputs": [
    {
     "name": "stdout",
     "output_type": "stream",
     "text": [
      "[1]\tvalid_0's l2: 0.243412\n",
      "Training until validation scores don't improve for 20 rounds\n",
      "[2]\tvalid_0's l2: 0.240914\n",
      "[3]\tvalid_0's l2: 0.238629\n",
      "[4]\tvalid_0's l2: 0.236573\n",
      "[5]\tvalid_0's l2: 0.234765\n",
      "[6]\tvalid_0's l2: 0.233086\n",
      "[7]\tvalid_0's l2: 0.231654\n",
      "[8]\tvalid_0's l2: 0.230317\n",
      "[9]\tvalid_0's l2: 0.229129\n",
      "[10]\tvalid_0's l2: 0.228043\n",
      "[11]\tvalid_0's l2: 0.227098\n",
      "[12]\tvalid_0's l2: 0.226179\n",
      "[13]\tvalid_0's l2: 0.22541\n",
      "[14]\tvalid_0's l2: 0.224719\n",
      "[15]\tvalid_0's l2: 0.224064\n",
      "[16]\tvalid_0's l2: 0.223497\n",
      "[17]\tvalid_0's l2: 0.222953\n",
      "[18]\tvalid_0's l2: 0.222494\n",
      "[19]\tvalid_0's l2: 0.222145\n",
      "[20]\tvalid_0's l2: 0.221778\n",
      "[21]\tvalid_0's l2: 0.221485\n",
      "[22]\tvalid_0's l2: 0.221194\n",
      "[23]\tvalid_0's l2: 0.220917\n",
      "[24]\tvalid_0's l2: 0.220611\n",
      "[25]\tvalid_0's l2: 0.22042\n",
      "[26]\tvalid_0's l2: 0.220197\n",
      "[27]\tvalid_0's l2: 0.220053\n",
      "[28]\tvalid_0's l2: 0.219833\n",
      "[29]\tvalid_0's l2: 0.219744\n",
      "[30]\tvalid_0's l2: 0.219646\n",
      "[31]\tvalid_0's l2: 0.21953\n",
      "[32]\tvalid_0's l2: 0.219457\n",
      "[33]\tvalid_0's l2: 0.21941\n",
      "[34]\tvalid_0's l2: 0.219353\n",
      "[35]\tvalid_0's l2: 0.219273\n",
      "[36]\tvalid_0's l2: 0.219214\n",
      "[37]\tvalid_0's l2: 0.219184\n",
      "[38]\tvalid_0's l2: 0.219133\n",
      "[39]\tvalid_0's l2: 0.219113\n",
      "[40]\tvalid_0's l2: 0.219047\n",
      "[41]\tvalid_0's l2: 0.21897\n",
      "[42]\tvalid_0's l2: 0.218907\n",
      "[43]\tvalid_0's l2: 0.218946\n",
      "[44]\tvalid_0's l2: 0.218952\n",
      "[45]\tvalid_0's l2: 0.218928\n",
      "[46]\tvalid_0's l2: 0.218925\n",
      "[47]\tvalid_0's l2: 0.218927\n",
      "[48]\tvalid_0's l2: 0.218923\n",
      "[49]\tvalid_0's l2: 0.218936\n",
      "[50]\tvalid_0's l2: 0.218919\n",
      "[51]\tvalid_0's l2: 0.218897\n",
      "[52]\tvalid_0's l2: 0.218873\n",
      "[53]\tvalid_0's l2: 0.218874\n",
      "[54]\tvalid_0's l2: 0.218871\n",
      "[55]\tvalid_0's l2: 0.218866\n",
      "[56]\tvalid_0's l2: 0.21883\n",
      "[57]\tvalid_0's l2: 0.218832\n",
      "[58]\tvalid_0's l2: 0.218846\n",
      "[59]\tvalid_0's l2: 0.218863\n",
      "[60]\tvalid_0's l2: 0.218852\n",
      "[61]\tvalid_0's l2: 0.21894\n",
      "[62]\tvalid_0's l2: 0.218967\n",
      "[63]\tvalid_0's l2: 0.218941\n",
      "[64]\tvalid_0's l2: 0.218952\n",
      "[65]\tvalid_0's l2: 0.218961\n",
      "[66]\tvalid_0's l2: 0.218989\n",
      "[67]\tvalid_0's l2: 0.219042\n",
      "[68]\tvalid_0's l2: 0.219073\n",
      "[69]\tvalid_0's l2: 0.219113\n",
      "[70]\tvalid_0's l2: 0.219148\n",
      "[71]\tvalid_0's l2: 0.219136\n",
      "[72]\tvalid_0's l2: 0.219151\n",
      "[73]\tvalid_0's l2: 0.219168\n",
      "[74]\tvalid_0's l2: 0.219164\n",
      "[75]\tvalid_0's l2: 0.219144\n",
      "[76]\tvalid_0's l2: 0.219138\n",
      "Early stopping, best iteration is:\n",
      "[56]\tvalid_0's l2: 0.21883\n",
      "[0.42950491 0.54483959 0.16359625 ... 0.16049781 0.14312926 0.31431312]\n",
      "mse :  0.21883030685827012\n"
     ]
    }
   ],
   "source": [
    "train_data_lgb = lgb.Dataset(Xtrain, ytrain)\n",
    "test_data_lgb = lgb.Dataset(Xtest, ytest, reference=train_data_lgb)\n",
    "\n",
    "params = {\n",
    "    'boosting_type': 'gbdt',\n",
    "    'objective': 'mse',\n",
    "    'metric': {\"mse\"},\n",
    "    'num_leaves': 32,\n",
    "    'learning_rate': 0.05,\n",
    "}\n",
    "num_round = 10000\n",
    "bst = lgb.train(params, train_data_lgb, num_round, valid_sets=test_data_lgb, early_stopping_rounds=20)\n",
    "y_pred_lgb=bst.predict(Xtest)\n",
    "print(y_pred_lgb)\n",
    "mse_lgb=mean_squared_error(ytest, y_pred_lgb)\n",
    "print(\"mse : \", mse_lgb)"
   ]
  },
  {
   "cell_type": "markdown",
   "metadata": {},
   "source": [
    "## 2. Soil Property Prediction\n",
    "The soil samples were analyzed using infrared spectroscopy. The task is to predict the chemical property of the soil.\n",
    "\n",
    "The data is provided in `final_project_data_q2.csv` file. Description of each feature follows:\n",
    "- `c1-c1003`: different measuring channels.\n",
    "- `property`: the soil property we are trying to predict."
   ]
  },
  {
   "cell_type": "code",
   "execution_count": 42,
   "metadata": {},
   "outputs": [
    {
     "name": "stdout",
     "output_type": "stream",
     "text": [
      "             c1          c2        c3            c4            c5  \\\n",
      "0  -1648.461461  195.232425 -0.103222  -5767.546407   4374.975128   \n",
      "1  -1464.685585 -228.924193 -0.159362  -2393.088896  -5795.603101   \n",
      "2  -5225.836447  256.552899 -0.259547  -4950.661122  -6499.729298   \n",
      "3 -12288.343091 -139.905171 -0.964538 -17316.241856 -15404.821986   \n",
      "4   3691.352018 -262.283507  1.352203   2414.030098   8133.481701   \n",
      "5  12607.852752  552.762966  1.187030  10958.992210  13186.181651   \n",
      "6 -18517.418735   82.147383  2.196223 -16095.444917 -13104.114495   \n",
      "7    -43.230469 -579.182345  1.503398  -1946.027032  -3371.277517   \n",
      "8 -15365.466852   94.739911  1.007444  -8768.391715           NaN   \n",
      "9   1023.817711 -404.132861 -0.830444   4173.062415   5102.472133   \n",
      "\n",
      "             c6            c7            c8            c9           c10  ...  \\\n",
      "0  -3742.425118  -1034.886649  -5676.238728  -2462.805593   -501.261810  ...   \n",
      "1  -6634.726305  -1833.029421  -3328.252422  -1995.219014   6076.019575  ...   \n",
      "2 -11343.000136  -3363.752639  -7095.410269  -2319.697951 -11849.739446  ...   \n",
      "3 -11191.309117 -11756.251534 -11249.246697 -10369.113269 -16557.505063  ...   \n",
      "4   5063.675019   6374.103806   2888.770328   4460.889319    375.446550  ...   \n",
      "5  18002.153163  11097.566691  13097.066762           NaN  13379.957717  ...   \n",
      "6 -19462.094299 -20923.135199 -19080.878491 -22028.230575 -20383.021175  ...   \n",
      "7  -2044.174767   4016.022512   -844.512729   1753.018755  -1798.559123  ...   \n",
      "8 -13287.196376 -11753.884619 -16112.019052 -12857.520989 -16695.134322  ...   \n",
      "9   3686.468351   2154.386314    874.072658   3748.271910  -4134.822721  ...   \n",
      "\n",
      "         c995        c996        c997        c998        c999       c1000  \\\n",
      "0  149.000498   52.707159  171.343906   52.518026  343.322727   15.019267   \n",
      "1 -193.658192 -186.478091  -65.534201 -188.607866 -174.901826 -248.565199   \n",
      "2  244.294962   26.069012  367.188183  413.269571  479.973565  397.011779   \n",
      "3  -93.039400 -206.651318  -82.950137 -129.930185  -82.277401  -86.781202   \n",
      "4 -309.012637 -111.542449 -292.014809 -173.148756 -355.574622 -192.925700   \n",
      "5  708.542179  664.665334  663.114337  605.129013  612.576665  517.493854   \n",
      "6  172.481393  -97.351167   57.791453   58.286754   -6.735435         NaN   \n",
      "7 -537.922421 -615.011525 -711.487196 -571.548176 -403.200458 -593.488316   \n",
      "8  211.504373  111.323607  196.858603   78.985683  147.178259  133.159445   \n",
      "9 -428.777305 -516.246129 -504.103121 -349.087791 -287.619728 -407.311164   \n",
      "\n",
      "        c1001       c1002       c1003    property  \n",
      "0  338.442148  160.326427  314.421168    0.030769  \n",
      "1  -72.184754 -180.427483 -395.330920  -21.724621  \n",
      "2  324.239189  398.993981  227.554928  -43.414029  \n",
      "3 -220.433424 -154.455075 -120.241815 -109.926257  \n",
      "4 -143.083620 -350.738268 -202.069647   12.130167  \n",
      "5  569.560979  308.601910  539.992860  138.031353  \n",
      "6  -64.277371         NaN  211.060661 -155.990293  \n",
      "7 -598.521892 -752.952760 -410.256702  -24.972523  \n",
      "8   42.912692  -34.755766  122.330390 -133.952526  \n",
      "9 -390.395610 -509.113543 -480.850042   -3.314554  \n",
      "\n",
      "[10 rows x 1004 columns]\n",
      "True\n",
      "c1          37\n",
      "c2          44\n",
      "c3          39\n",
      "c4          42\n",
      "c5          41\n",
      "c6          61\n",
      "c7          43\n",
      "c8          40\n",
      "c9          37\n",
      "c10         41\n",
      "c11         36\n",
      "c12         43\n",
      "c13         46\n",
      "c14         35\n",
      "c15         49\n",
      "c16         47\n",
      "c17         40\n",
      "c18         50\n",
      "c19         44\n",
      "c20         44\n",
      "c21         36\n",
      "c22         45\n",
      "c23         45\n",
      "c24         38\n",
      "c25         46\n",
      "c26         49\n",
      "c27         40\n",
      "c28         45\n",
      "c29         52\n",
      "c30         44\n",
      "            ..\n",
      "c975        45\n",
      "c976        32\n",
      "c977        49\n",
      "c978        44\n",
      "c979        32\n",
      "c980        35\n",
      "c981        42\n",
      "c982        46\n",
      "c983        50\n",
      "c984        57\n",
      "c985        44\n",
      "c986        38\n",
      "c987        33\n",
      "c988        37\n",
      "c989        50\n",
      "c990        32\n",
      "c991        36\n",
      "c992        42\n",
      "c993        52\n",
      "c994        45\n",
      "c995        49\n",
      "c996        49\n",
      "c997        43\n",
      "c998        51\n",
      "c999        45\n",
      "c1000       43\n",
      "c1001       43\n",
      "c1002       40\n",
      "c1003       55\n",
      "property     0\n",
      "Length: 1004, dtype: int64\n"
     ]
    }
   ],
   "source": [
    "d2 = pd.read_csv('soil_property.csv')\n",
    "print(d2.head(10))\n",
    "print(d2.isnull().values.any())\n",
    "print(d2.isnull().sum())\n",
    "d2=d2.fillna(d2.mean())\n",
    "y = d2.property.values\n",
    "del (d2['property'])"
   ]
  },
  {
   "cell_type": "code",
   "execution_count": 43,
   "metadata": {},
   "outputs": [
    {
     "name": "stdout",
     "output_type": "stream",
     "text": [
      "253\n",
      "             c1          c2        c3            c5            c6  \\\n",
      "0  -1648.461461  195.232425 -0.103222   4374.975128  -3742.425118   \n",
      "1  -1464.685585 -228.924193 -0.159362  -5795.603101  -6634.726305   \n",
      "2  -5225.836447  256.552899 -0.259547  -6499.729298 -11343.000136   \n",
      "3 -12288.343091 -139.905171 -0.964538 -15404.821986 -11191.309117   \n",
      "4   3691.352018 -262.283507  1.352203   8133.481701   5063.675019   \n",
      "\n",
      "             c7            c9           c10           c11           c12  ...  \\\n",
      "0  -1034.886649  -2462.805593   -501.261810  -1112.413855   2050.005924  ...   \n",
      "1  -1833.029421  -1995.219014   6076.019575   1966.434568  -9098.477521  ...   \n",
      "2  -3363.752639  -2319.697951 -11849.739446  -4309.575350  -3570.194551  ...   \n",
      "3 -11756.251534 -10369.113269 -16557.505063 -12418.589272 -14920.670452  ...   \n",
      "4   6374.103806   4460.889319    375.446550   3903.652305   -526.996548  ...   \n",
      "\n",
      "         c982        c983        c985        c987        c989        c994  \\\n",
      "0  312.397147  187.179149  409.792100  269.860934  102.020754  185.918119   \n",
      "1  -88.179130 -226.692343 -400.391580 -305.524438 -333.744355 -304.347057   \n",
      "2  324.543416  497.771581  -14.690979  296.362329  201.321995  288.838263   \n",
      "3 -240.385024  -54.558771   -5.812795 -149.261911 -197.402678 -390.540404   \n",
      "4 -347.687728 -287.256838 -207.255648 -153.927885 -453.020013 -220.125214   \n",
      "\n",
      "         c996        c997       c1000       c1003  \n",
      "0   52.707159  171.343906   15.019267  314.421168  \n",
      "1 -186.478091  -65.534201 -248.565199 -395.330920  \n",
      "2   26.069012  367.188183  397.011779  227.554928  \n",
      "3 -206.651318  -82.950137  -86.781202 -120.241815  \n",
      "4 -111.542449 -292.014809 -192.925700 -202.069647  \n",
      "\n",
      "[5 rows x 750 columns]\n"
     ]
    },
    {
     "data": {
      "image/png": "[encoded data removed]",
      "text/plain": [
       "<Figure size 432x288 with 2 Axes>"
      ]
     },
     "metadata": {
      "needs_background": "light"
     },
     "output_type": "display_data"
    }
   ],
   "source": [
    "##Looking for correlation between features, i need to remove some, there is too much.\n",
    "\n",
    "\n",
    "corr = d2.corr()\n",
    "sns.heatmap(corr)\n",
    "\n",
    "upper = corr.where(np.triu(np.ones(corr.shape), k=1).astype(np.bool))\n",
    "# Find index of feature columns with correlation greater than 0.95\n",
    "to_drop = [column for column in upper.columns if any(upper[column] > 0.95)]\n",
    "print(len(to_drop))\n",
    "d2 = d2.drop(d2[to_drop], axis=1)\n",
    "print(d2.head())"
   ]
  },
  {
   "cell_type": "code",
   "execution_count": 44,
   "metadata": {
    "scrolled": false
   },
   "outputs": [
    {
     "name": "stderr",
     "output_type": "stream",
     "text": [
      "/home/joachim/anaconda3/lib/python3.7/site-packages/numpy/core/fromnumeric.py:2389: FutureWarning: Method .ptp is deprecated and will be removed in a future version. Use numpy.ptp instead.\n",
      "  return ptp(axis=axis, out=out, **kwargs)\n"
     ]
    },
    {
     "name": "stdout",
     "output_type": "stream",
     "text": [
      "['c1', 'c9', 'c11', 'c62', 'c70', 'c82', 'c87', 'c88', 'c98', 'c124', 'c131', 'c133', 'c142', 'c145', 'c151', 'c152', 'c178', 'c217', 'c223', 'c230', 'c240', 'c243', 'c250', 'c253', 'c254', 'c259', 'c260', 'c282', 'c296', 'c298', 'c322', 'c325', 'c337', 'c356', 'c375', 'c378', 'c407', 'c409', 'c410', 'c440', 'c476', 'c488', 'c550', 'c560', 'c611', 'c626', 'c674', 'c681', 'c682', 'c716', 'c739', 'c771', 'c794', 'c801', 'c817', 'c938', 'c969', 'c978']\n"
     ]
    }
   ],
   "source": [
    "\n",
    "import statsmodels.api as sm\n",
    "#Adding constant column of ones, mandatory for sm.OLS model\n",
    "X_1 = sm.add_constant(d2)\n",
    "#Fitting sm.OLS model\n",
    "model = sm.OLS(y,X_1).fit()\n",
    "model.pvalues\n",
    "\n",
    "#Backward Elimination\n",
    "cols = list(d2.columns)\n",
    "pmax = 1\n",
    "while (len(cols)>0):\n",
    "    p= []\n",
    "    X_1 = d2[cols]\n",
    "    X_1 = sm.add_constant(X_1)\n",
    "    model = sm.OLS(y,X_1).fit()\n",
    "    p = pd.Series(model.pvalues.values[1:],index = cols)      \n",
    "    pmax = max(p)\n",
    "    feature_with_p_max = p.idxmax()\n",
    "    if(pmax>0.02):\n",
    "        cols.remove(feature_with_p_max)\n",
    "    else:\n",
    "        break\n",
    "selected_features_BE = cols\n",
    "print(selected_features_BE)\n",
    "\n"
   ]
  },
  {
   "cell_type": "code",
   "execution_count": 45,
   "metadata": {},
   "outputs": [
    {
     "name": "stdout",
     "output_type": "stream",
     "text": [
      "             c1            c9           c11           c62           c70  \\\n",
      "0  -1648.461461  -2462.805593  -1112.413855   -556.169205  -4490.435478   \n",
      "1  -1464.685585  -1995.219014   1966.434568  -4720.822649  -1037.370053   \n",
      "2  -5225.836447  -2319.697951  -4309.575350    644.719088 -12250.787511   \n",
      "3 -12288.343091 -10369.113269 -12418.589272 -14349.605488 -17304.145823   \n",
      "4   3691.352018   4460.889319   3903.652305   6969.670351   1886.095323   \n",
      "\n",
      "            c82           c87           c88           c98          c124  ...  \\\n",
      "0  -3597.381821  -2648.127887  -6326.781442    120.725086   -302.131189  ...   \n",
      "1  -3842.402066  -2300.136096  -2831.545106  -2830.823371   -644.175614  ...   \n",
      "2 -12737.812164  -2140.652029   1295.066212  -6011.435991 -10566.848734  ...   \n",
      "3 -14327.806281 -14359.471188 -15957.637218 -11848.241725 -11147.193229  ...   \n",
      "4   3210.661536   6698.829384   5643.177558   6593.100267   5226.236639  ...   \n",
      "\n",
      "         c682        c716        c739        c771        c794        c801  \\\n",
      "0  333.778194   63.146178  -11.490478  254.023902  354.941186  172.410860   \n",
      "1  -56.848687 -241.816227 -245.643823 -422.614290 -500.548096 -283.964129   \n",
      "2  211.208446   -9.505758  301.357092  254.547999  274.444821  351.159657   \n",
      "3   -6.991181  -20.036978 -252.494827  -72.814088   19.996419  -65.353141   \n",
      "4 -143.233856 -345.096963 -164.666122 -364.294595 -309.808718 -221.426180   \n",
      "\n",
      "         c817        c938        c969        c978  \n",
      "0   36.825951  232.060261  239.581790  219.381052  \n",
      "1  -91.524773 -169.537770 -213.329129 -295.919432  \n",
      "2  330.174383   -9.296680  160.160037  301.008673  \n",
      "3  -66.551120 -136.136502  -64.748782 -209.535719  \n",
      "4 -256.157132 -264.983912 -343.812370 -279.486741  \n",
      "\n",
      "[5 rows x 58 columns]\n",
      "58\n",
      "Index(['c1', 'c9', 'c11', 'c62', 'c70', 'c82', 'c87', 'c88', 'c98', 'c124',\n",
      "       'c131', 'c133', 'c142', 'c145', 'c151', 'c152', 'c178', 'c217', 'c223',\n",
      "       'c230', 'c240', 'c243', 'c250', 'c253', 'c254', 'c259', 'c260', 'c282',\n",
      "       'c296', 'c298', 'c322', 'c325', 'c337', 'c356', 'c375', 'c378', 'c407',\n",
      "       'c409', 'c410', 'c440', 'c476', 'c488', 'c550', 'c560', 'c611', 'c626',\n",
      "       'c674', 'c681', 'c682', 'c716', 'c739', 'c771', 'c794', 'c801', 'c817',\n",
      "       'c938', 'c969', 'c978'],\n",
      "      dtype='object')\n"
     ]
    }
   ],
   "source": [
    "##Get only good features\n",
    "\n",
    "d2 = d2[selected_features_BE].copy()\n",
    "print(d2.head())\n",
    "print(len(selected_features_BE))\n",
    "print(d2.columns)"
   ]
  },
  {
   "cell_type": "code",
   "execution_count": 46,
   "metadata": {},
   "outputs": [
    {
     "name": "stdout",
     "output_type": "stream",
     "text": [
      "[0.66072029 0.91776905]\n"
     ]
    }
   ],
   "source": [
    "Xtrain2, Xtest2, ytrain2, ytest2 = train_test_split(d2, y, random_state=42)\n",
    "scaler = StandardScaler()\n",
    "scaler.fit(Xtrain2)\n",
    "Xtrain2 = scaler.transform(Xtrain2)\n",
    "Xtest2 = scaler.transform(Xtest2)\n",
    "\n",
    "pca2 = PCA(n_components=2, random_state=42, svd_solver='randomized')\n",
    "pca2.fit(Xtrain2)\n",
    "Xtrain2 = pca2.transform(Xtrain2)\n",
    "Xtest2 = pca2.transform(Xtest2)\n",
    "print(pca2.explained_variance_ratio_.cumsum())"
   ]
  },
  {
   "cell_type": "code",
   "execution_count": 47,
   "metadata": {},
   "outputs": [],
   "source": [
    "from sklearn.preprocessing import PolynomialFeatures\n",
    "\n",
    "pf = PolynomialFeatures(2, include_bias=False)\n",
    "pf.fit(Xtrain2)\n",
    "Xtrain_poly = pf.transform(Xtrain2)\n",
    "Xtest_poly = pf.transform(Xtest2)\n",
    "\n",
    "##I will not use this, i tried but it's worst\n",
    "\n",
    "\n",
    "##After i will try 3 model of Regression, but the best one is LinearReg"
   ]
  },
  {
   "cell_type": "code",
   "execution_count": 48,
   "metadata": {},
   "outputs": [
    {
     "name": "stdout",
     "output_type": "stream",
     "text": [
      "lr mse:  114.99418042236178\n"
     ]
    }
   ],
   "source": [
    "lr = LinearRegression()\n",
    "lr.fit(Xtrain2, ytrain2)\n",
    "y_pred2 = lr.predict(Xtest2)\n",
    "mse = mean_squared_error(ytest2, y_pred2)\n",
    "print(\"lr mse: \", mse)"
   ]
  },
  {
   "cell_type": "code",
   "execution_count": 15,
   "metadata": {},
   "outputs": [
    {
     "name": "stderr",
     "output_type": "stream",
     "text": [
      "/home/joachim/anaconda3/lib/python3.7/site-packages/sklearn/model_selection/_split.py:1978: FutureWarning: The default value of cv will change from 3 to 5 in version 0.22. Specify it explicitly to silence this warning.\n",
      "  warnings.warn(CV_WARNING, FutureWarning)\n"
     ]
    },
    {
     "name": "stdout",
     "output_type": "stream",
     "text": [
      "{'learning_rate': 0.1, 'max_depth': 1, 'min_samples_leaf': 3, 'min_samples_split': 0.5, 'n_estimators': 10000}\n",
      "0.9881860364218341\n",
      "mse :  158.5924896893582\n"
     ]
    }
   ],
   "source": [
    "params = {'learning_rate': [0.1, 0.5, 0.01],\n",
    "              'n_estimators': [7000, 8000, 10000],\n",
    "              'max_depth': [1, 2, 6],\n",
    "            'min_samples_split': [0.5, 1.0, 2, 4],\n",
    "             'min_samples_leaf': [1, 3, 5]}\n",
    "grid = GridSearchCV(GradientBoostingRegressor(), params, n_jobs=-1)\n",
    "\n",
    "grid.fit(Xtrain2, ytrain2)\n",
    "print(grid.best_params_)\n",
    "print(grid.best_score_)\n",
    "\n",
    "m = grid.best_estimator_\n",
    "ypred = m.predict(Xtest2)\n",
    "mse=mean_squared_error(ytest2, ypred)\n",
    "print(\"mse : \", mse)"
   ]
  },
  {
   "cell_type": "code",
   "execution_count": 16,
   "metadata": {},
   "outputs": [
    {
     "name": "stdout",
     "output_type": "stream",
     "text": [
      "{'C': 1100, 'epsilon': 10, 'gamma': 5e-05}\n",
      "-92.25851699844806\n",
      "mse :  116.49292376515099\n"
     ]
    },
    {
     "name": "stderr",
     "output_type": "stream",
     "text": [
      "/home/joachim/anaconda3/lib/python3.7/site-packages/sklearn/model_selection/_search.py:813: DeprecationWarning: The default of the `iid` parameter will change from True to False in version 0.22 and will be removed in 0.24. This will change numeric results when test-set sizes are unequal.\n",
      "  DeprecationWarning)\n"
     ]
    }
   ],
   "source": [
    "params = {\n",
    "            'C': [1000, 1050, 1100],\n",
    "            'epsilon': [8,10,15],\n",
    "            'gamma': [0.00001, 0.0001, 0.00005]\n",
    "        }\n",
    "gsc = GridSearchCV(\n",
    "        estimator=SVR(kernel='rbf'),\n",
    "        param_grid=params,\n",
    "        cv=10, scoring='neg_mean_squared_error', verbose=0, n_jobs=-1)\n",
    "gsc.fit(Xtrain2, ytrain2)\n",
    "print(gsc.best_params_)\n",
    "print(gsc.best_score_)\n",
    "m = gsc.best_estimator_\n",
    "ypred = m.predict(Xtest2)\n",
    "mse=mean_squared_error(ytest2, ypred)\n",
    "print(\"mse : \", mse)"
   ]
  },
  {
   "cell_type": "code",
   "execution_count": null,
   "metadata": {},
   "outputs": [],
   "source": []
  },
  {
   "cell_type": "code",
   "execution_count": null,
   "metadata": {},
   "outputs": [],
   "source": []
  },
  {
   "cell_type": "code",
   "execution_count": null,
   "metadata": {},
   "outputs": [],
   "source": []
  },
  {
   "cell_type": "code",
   "execution_count": null,
   "metadata": {},
   "outputs": [],
   "source": []
  }
 ],
 "metadata": {
  "kernelspec": {
   "display_name": "Python 3",
   "language": "python",
   "name": "python3"
  },
  "language_info": {
   "codemirror_mode": {
    "name": "ipython",
    "version": 3
   },
   "file_extension": ".py",
   "mimetype": "text/x-python",
   "name": "python",
   "nbconvert_exporter": "python",
   "pygments_lexer": "ipython3",
   "version": "3.7.3"
  }
 },
 "nbformat": 4,
 "nbformat_minor": 4
}